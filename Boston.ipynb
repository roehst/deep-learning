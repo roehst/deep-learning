{
 "cells": [
  {
   "cell_type": "code",
   "execution_count": 42,
   "metadata": {},
   "outputs": [],
   "source": [
    "from typing import List, Tuple\n",
    "\n",
    "import numpy as np\n",
    "import numpy.random as random\n",
    "from numpy import ndarray\n",
    "import pandas as pd\n",
    "\n",
    "from sklearn.model_selection import train_test_split\n",
    "from sklearn.datasets import load_boston\n",
    "from sklearn.preprocessing import normalize\n",
    "\n",
    "from abc import ABC, abstractmethod\n",
    "\n",
    "from deep_learning.operations import (\n",
    "    Operation,\n",
    "    ParamOperation,\n",
    "    WeightMultiply,\n",
    "    BiasAdd,\n",
    "    Linear,\n",
    "    Sigmoid\n",
    ")\n",
    "from deep_learning.loss import Loss, MeanSquaredError\n",
    "from deep_learning.layers import Layer, Dense\n",
    "from deep_learning.neural_network import NeuralNetwork\n",
    "from deep_learning.optimizer import Optimizer, SGD\n",
    "from deep_learning.trainer import Trainer"
   ]
  },
  {
   "cell_type": "code",
   "execution_count": 125,
   "metadata": {},
   "outputs": [],
   "source": [
    "lr = NeuralNetwork(\n",
    "    layers=[\n",
    "        Dense(neurons=12, activation=Sigmoid()),\n",
    "        Dense(neurons=12, activation=Sigmoid()),        \n",
    "        Dense(neurons=1, activation=Linear())\n",
    "    ], loss=MeanSquaredError()\n",
    ")\n",
    "\n",
    "boston = load_boston()\n",
    "\n",
    "X = boston[\"data\"]\n",
    "y = boston[\"target\"].reshape(-1, 1)\n",
    "D = np.column_stack([X, y])\n",
    "df = pd.DataFrame(D, columns=list(boston[\"feature_names\"]) + [\"MDEV\"])\n",
    "\n",
    "X_train, X_test, y_train, y_test = train_test_split(X, y)\n",
    "y_train = y_train.reshape(-1, 1)\n",
    "y_test = y_test.reshape(-1, 1)\n",
    "\n",
    "X_train = normalize(X_train, axis=0)\n",
    "y_train = normalize(y_train, axis=0)\n",
    "\n",
    "X_test = normalize(X_test, axis=0)\n",
    "y_test = normalize(y_test, axis=0)"
   ]
  },
  {
   "cell_type": "code",
   "execution_count": 129,
   "metadata": {},
   "outputs": [
    {
     "name": "stdout",
     "output_type": "stream",
     "text": [
      "Validation loss after 2000 epochs is 0.00212976\n",
      "Validation loss after 4000 epochs is 0.00151356\n",
      "Validation loss after 6000 epochs is 0.00134515\n",
      "Validation loss after 8000 epochs is 0.00127275\n",
      "Validation loss after 10000 epochs is 0.00123741\n",
      "Validation loss after 12000 epochs is 0.00122099\n",
      "Validation loss after 14000 epochs is 0.00121523\n",
      "Validation loss after 16000 epochs is 0.00121572\n",
      "Validation loss after 18000 epochs is 0.00121996\n",
      "Validation loss after 20000 epochs is 0.00122647\n"
     ]
    }
   ],
   "source": [
    "trainer = Trainer(lr, SGD(learning_rate=0.01))\n",
    "\n",
    "trainer.fit(X_train, y_train.reshape(-1, 1), X_test, y_test.reshape(-1, 1), epochs=20000, eval_every=2000)"
   ]
  },
  {
   "cell_type": "code",
   "execution_count": 131,
   "metadata": {},
   "outputs": [
    {
     "data": {
      "image/png": "[encoded data removed]",
      "text/plain": [
       "<Figure size 432x288 with 1 Axes>"
      ]
     },
     "metadata": {
      "needs_background": "light"
     },
     "output_type": "display_data"
    }
   ],
   "source": [
    "y_pred = lr.forward(X_test)\n",
    "\n",
    "import matplotlib.pyplot as plt\n",
    "\n",
    "plt.figure()\n",
    "plt.scatter(y_test, y_pred)\n",
    "plt.show()"
   ]
  },
  {
   "cell_type": "code",
   "execution_count": null,
   "metadata": {},
   "outputs": [],
   "source": []
  }
 ],
 "metadata": {
  "kernelspec": {
   "display_name": "Python 3",
   "language": "python",
   "name": "python3"
  },
  "language_info": {
   "codemirror_mode": {
    "name": "ipython",
    "version": 3
   },
   "file_extension": ".py",
   "mimetype": "text/x-python",
   "name": "python",
   "nbconvert_exporter": "python",
   "pygments_lexer": "ipython3",
   "version": "3.8.2"
  }
 },
 "nbformat": 4,
 "nbformat_minor": 4
}
